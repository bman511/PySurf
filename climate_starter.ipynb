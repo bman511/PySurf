{
 "cells": [
  {
   "cell_type": "code",
   "execution_count": 3,
   "metadata": {},
   "outputs": [],
   "source": [
    "%matplotlib inline\n",
    "from matplotlib import style\n",
    "style.use('fivethirtyeight')\n",
    "import matplotlib.pyplot as plt"
   ]
  },
  {
   "cell_type": "code",
   "execution_count": 4,
   "metadata": {},
   "outputs": [],
   "source": [
    "import numpy as np\n",
    "import pandas as pd"
   ]
  },
  {
   "cell_type": "code",
   "execution_count": 40,
   "metadata": {},
   "outputs": [],
   "source": [
    "import datetime as dt\n",
    "from datetime import datetime\n",
    "from flask import jsonify"
   ]
  },
  {
   "cell_type": "markdown",
   "metadata": {},
   "source": [
    "# Reflect Tables into SQLAlchemy ORM"
   ]
  },
  {
   "cell_type": "code",
   "execution_count": 6,
   "metadata": {},
   "outputs": [],
   "source": [
    "# Python SQL toolkit and Object Relational Mapper\n",
    "import sqlalchemy\n",
    "from sqlalchemy.ext.automap import automap_base\n",
    "from sqlalchemy.orm import Session\n",
    "from sqlalchemy import create_engine, func, inspect"
   ]
  },
  {
   "cell_type": "code",
   "execution_count": 7,
   "metadata": {},
   "outputs": [],
   "source": [
    "engine = create_engine(\"sqlite:///Resources/hawaii.sqlite\")"
   ]
  },
  {
   "cell_type": "code",
   "execution_count": 8,
   "metadata": {},
   "outputs": [],
   "source": [
    "# reflect an existing database into a new model\n",
    "Base = automap_base()\n",
    "# reflect the tables\n",
    "Base.prepare(engine, reflect=True)"
   ]
  },
  {
   "cell_type": "code",
   "execution_count": 9,
   "metadata": {},
   "outputs": [
    {
     "data": {
      "text/plain": [
       "['measurement', 'station']"
      ]
     },
     "execution_count": 9,
     "metadata": {},
     "output_type": "execute_result"
    }
   ],
   "source": [
    "# We can view all of the classes that automap found\n",
    "Base.classes.keys()"
   ]
  },
  {
   "cell_type": "code",
   "execution_count": 10,
   "metadata": {},
   "outputs": [],
   "source": [
    "# Save references to each table\n",
    "Measurement = Base.classes.measurement\n",
    "Station = Base.classes.station"
   ]
  },
  {
   "cell_type": "code",
   "execution_count": 11,
   "metadata": {},
   "outputs": [],
   "source": [
    "# Create our session (link) from Python to the DB\n",
    "session = Session(engine)"
   ]
  },
  {
   "cell_type": "markdown",
   "metadata": {},
   "source": [
    "# Exploratory Climate Analysis"
   ]
  },
  {
   "cell_type": "code",
   "execution_count": 12,
   "metadata": {},
   "outputs": [
    {
     "name": "stdout",
     "output_type": "stream",
     "text": [
      "id INTEGER\n",
      "station TEXT\n",
      "date TEXT\n",
      "prcp FLOAT\n",
      "tobs FLOAT\n"
     ]
    }
   ],
   "source": [
    "# Design a query to retrieve the last 12 months of precipitation data and plot the results\n",
    "inspector = inspect(engine)\n",
    "columns = inspector.get_columns('measurement')\n",
    "for column in columns:\n",
    "    print(column[\"name\"], column[\"type\"])"
   ]
  },
  {
   "cell_type": "code",
   "execution_count": 13,
   "metadata": {},
   "outputs": [
    {
     "name": "stdout",
     "output_type": "stream",
     "text": [
      "2016-08-24\n"
     ]
    }
   ],
   "source": [
    "year_ago = dt.date.today() - dt.timedelta(days=365)\n",
    "    \n",
    "#last_year_data = session.query(Measurement).filter(Measurement.date > year_ago).limit(10)\n",
    "\n",
    "last_date_query = session.query(Measurement.date).order_by(Measurement.id.desc()).limit(1)\n",
    "\n",
    "for item in last_date_query:\n",
    "    last_date = dt.datetime.strptime(item.date, \"%Y-%m-%d\").date() - dt.timedelta(days=364)\n",
    "\n",
    "print(last_date)"
   ]
  },
  {
   "cell_type": "code",
   "execution_count": 14,
   "metadata": {},
   "outputs": [],
   "source": [
    "# str_date = '2017-08-23'\n",
    "# date_date = dt.datetime.strptime(str_date, \"%Y-%m-%d\").date()\n",
    "# print(date_date)"
   ]
  },
  {
   "cell_type": "code",
   "execution_count": 15,
   "metadata": {},
   "outputs": [],
   "source": [
    "my_query = session.query(Measurement.date,Measurement.prcp,Measurement.station).order_by(Measurement.date.desc()).limit(50)\n",
    "# for item in my_query:\n",
    "#     print(f\"{item.date} - {item.prcp} - {item.station}\")"
   ]
  },
  {
   "cell_type": "code",
   "execution_count": 16,
   "metadata": {},
   "outputs": [],
   "source": [
    "last_year_query = session.query(Measurement.date, func.avg(Measurement.prcp).label('Average')).\\\n",
    "        filter(Measurement.date >= last_date).\\\n",
    "        order_by(Measurement.date.asc()).\\\n",
    "        group_by(Measurement.date)\n",
    "\n",
    "# for item in last_year_query:\n",
    "#     print(f\"{item.date} - {item.Average}\")"
   ]
  },
  {
   "cell_type": "code",
   "execution_count": 17,
   "metadata": {},
   "outputs": [
    {
     "data": {
      "text/plain": [
       "{'2016-08-24': 1.5549999999999997,\n",
       " '2016-08-25': 0.07714285714285715,\n",
       " '2016-08-26': 0.016666666666666666,\n",
       " '2016-08-27': 0.06399999999999999,\n",
       " '2016-08-28': 0.5166666666666666,\n",
       " '2016-08-29': 0.24333333333333332,\n",
       " '2016-08-30': 0.011666666666666667,\n",
       " '2016-08-31': 0.6359999999999999,\n",
       " '2016-09-01': 0.006,\n",
       " '2016-09-02': 0.05,\n",
       " '2016-09-03': 0.254,\n",
       " '2016-09-04': 0.276,\n",
       " '2016-09-05': 0.08499999999999999,\n",
       " '2016-09-06': 0.246,\n",
       " '2016-09-07': 0.3333333333333333,\n",
       " '2016-09-08': 0.07666666666666667,\n",
       " '2016-09-09': 0.17833333333333332,\n",
       " '2016-09-10': 0.27999999999999997,\n",
       " '2016-09-11': 0.25,\n",
       " '2016-09-12': 0.308,\n",
       " '2016-09-13': 0.45166666666666666,\n",
       " '2016-09-14': 2.3800000000000003,\n",
       " '2016-09-15': 0.8266666666666667,\n",
       " '2016-09-16': 0.11714285714285715,\n",
       " '2016-09-17': 0.13599999999999998,\n",
       " '2016-09-18': 0.10600000000000001,\n",
       " '2016-09-19': 0.064,\n",
       " '2016-09-20': 0.14714285714285716,\n",
       " '2016-09-21': 0.19499999999999998,\n",
       " '2016-09-22': 0.2057142857142857,\n",
       " '2016-09-23': 0.22428571428571428,\n",
       " '2016-09-24': 0.04666666666666667,\n",
       " '2016-09-25': 0.015,\n",
       " '2016-09-26': 0.2783333333333333,\n",
       " '2016-09-27': 0.22666666666666666,\n",
       " '2016-09-28': 0.018571428571428572,\n",
       " '2016-09-29': 0.42714285714285716,\n",
       " '2016-09-30': 0.19166666666666665,\n",
       " '2016-10-01': 0.2416666666666667,\n",
       " '2016-10-02': 0.12,\n",
       " '2016-10-03': 0.115,\n",
       " '2016-10-04': 0.5816666666666667,\n",
       " '2016-10-05': 0.1366666666666667,\n",
       " '2016-10-06': 0.022857142857142857,\n",
       " '2016-10-07': 0.0016666666666666668,\n",
       " '2016-10-08': 0.008,\n",
       " '2016-10-09': 0.0,\n",
       " '2016-10-10': 0.0,\n",
       " '2016-10-11': 0.11499999999999999,\n",
       " '2016-10-12': 0.013333333333333334,\n",
       " '2016-10-13': 0.013333333333333334,\n",
       " '2016-10-14': 0.0,\n",
       " '2016-10-15': 0.065,\n",
       " '2016-10-16': 0.0,\n",
       " '2016-10-17': 0.11000000000000001,\n",
       " '2016-10-18': 0.09999999999999999,\n",
       " '2016-10-19': 0.028333333333333332,\n",
       " '2016-10-20': 0.202,\n",
       " '2016-10-21': 0.064,\n",
       " '2016-10-22': 0.354,\n",
       " '2016-10-23': 0.055999999999999994,\n",
       " '2016-10-24': 0.13166666666666665,\n",
       " '2016-10-25': 0.15714285714285717,\n",
       " '2016-10-26': 0.04833333333333334,\n",
       " '2016-10-27': 0.31,\n",
       " '2016-10-28': 0.09500000000000001,\n",
       " '2016-10-29': 0.10666666666666667,\n",
       " '2016-10-30': 0.26499999999999996,\n",
       " '2016-10-31': 0.26833333333333337,\n",
       " '2016-11-01': 0.035,\n",
       " '2016-11-02': 0.006666666666666667,\n",
       " '2016-11-03': 0.0033333333333333335,\n",
       " '2016-11-04': 0.01,\n",
       " '2016-11-05': 0.075,\n",
       " '2016-11-06': 0.013333333333333334,\n",
       " '2016-11-07': 0.03,\n",
       " '2016-11-08': 0.18666666666666668,\n",
       " '2016-11-09': 0.05714285714285714,\n",
       " '2016-11-10': 0.0016666666666666668,\n",
       " '2016-11-11': 0.0,\n",
       " '2016-11-12': 0.0,\n",
       " '2016-11-13': 0.0,\n",
       " '2016-11-14': 0.02142857142857143,\n",
       " '2016-11-15': 0.008333333333333333,\n",
       " '2016-11-16': 0.25666666666666665,\n",
       " '2016-11-17': 0.01,\n",
       " '2016-11-18': 0.0075,\n",
       " '2016-11-19': 0.095,\n",
       " '2016-11-20': 0.23750000000000002,\n",
       " '2016-11-21': 0.616,\n",
       " '2016-11-22': 1.002,\n",
       " '2016-11-23': 0.134,\n",
       " '2016-11-24': 0.296,\n",
       " '2016-11-25': 0.264,\n",
       " '2016-11-26': 0.085,\n",
       " '2016-11-27': 0.09166666666666667,\n",
       " '2016-11-28': 0.12,\n",
       " '2016-11-29': 0.07166666666666667,\n",
       " '2016-11-30': 0.17666666666666667,\n",
       " '2016-12-01': 0.295,\n",
       " '2016-12-02': 0.3933333333333333,\n",
       " '2016-12-03': 0.45166666666666666,\n",
       " '2016-12-04': 0.13333333333333333,\n",
       " '2016-12-05': 0.54,\n",
       " '2016-12-06': 0.008,\n",
       " '2016-12-07': 0.076,\n",
       " '2016-12-08': 0.06571428571428573,\n",
       " '2016-12-09': 0.37,\n",
       " '2016-12-10': 0.026000000000000002,\n",
       " '2016-12-11': 0.05,\n",
       " '2016-12-12': 0.008333333333333333,\n",
       " '2016-12-13': 0.12833333333333333,\n",
       " '2016-12-14': 0.25,\n",
       " '2016-12-15': 0.043333333333333335,\n",
       " '2016-12-16': 0.006666666666666667,\n",
       " '2016-12-17': 0.07,\n",
       " '2016-12-18': 0.178,\n",
       " '2016-12-19': 0.07,\n",
       " '2016-12-20': 0.005,\n",
       " '2016-12-21': 0.1285714285714286,\n",
       " '2016-12-22': 0.4116666666666666,\n",
       " '2016-12-23': 0.205,\n",
       " '2016-12-24': 0.27,\n",
       " '2016-12-25': 0.086,\n",
       " '2016-12-26': 0.40800000000000003,\n",
       " '2016-12-27': 0.04,\n",
       " '2016-12-28': 0.06833333333333334,\n",
       " '2016-12-29': 0.39666666666666667,\n",
       " '2016-12-30': 0.5583333333333333,\n",
       " '2016-12-31': 0.42800000000000005,\n",
       " '2017-01-01': 0.06999999999999999,\n",
       " '2017-01-02': 0.004,\n",
       " '2017-01-03': 0.0,\n",
       " '2017-01-04': 0.03,\n",
       " '2017-01-05': 0.15833333333333333,\n",
       " '2017-01-06': 0.13333333333333333,\n",
       " '2017-01-07': 0.01,\n",
       " '2017-01-08': 0.01,\n",
       " '2017-01-09': 0.0,\n",
       " '2017-01-10': 0.0,\n",
       " '2017-01-11': 0.0,\n",
       " '2017-01-12': 0.0,\n",
       " '2017-01-13': 0.0,\n",
       " '2017-01-14': 0.002,\n",
       " '2017-01-15': 0.0025,\n",
       " '2017-01-16': 0.0,\n",
       " '2017-01-17': 0.0,\n",
       " '2017-01-18': 0.011666666666666667,\n",
       " '2017-01-19': 0.0033333333333333335,\n",
       " '2017-01-20': 0.0,\n",
       " '2017-01-21': 0.04666666666666666,\n",
       " '2017-01-22': 0.20400000000000001,\n",
       " '2017-01-23': 0.188,\n",
       " '2017-01-24': 0.45,\n",
       " '2017-01-25': 0.716,\n",
       " '2017-01-26': 0.015714285714285715,\n",
       " '2017-01-27': 0.008571428571428572,\n",
       " '2017-01-28': 0.028000000000000004,\n",
       " '2017-01-29': 0.2475,\n",
       " '2017-01-30': 0.008333333333333333,\n",
       " '2017-01-31': 0.0,\n",
       " '2017-02-01': 0.0,\n",
       " '2017-02-02': 0.0,\n",
       " '2017-02-03': 0.0,\n",
       " '2017-02-04': 0.0,\n",
       " '2017-02-05': 0.0,\n",
       " '2017-02-06': 0.06333333333333334,\n",
       " '2017-02-07': 1.0571428571428572,\n",
       " '2017-02-08': 0.1542857142857143,\n",
       " '2017-02-09': 0.002857142857142857,\n",
       " '2017-02-10': 0.0,\n",
       " '2017-02-11': 1.866666666666667,\n",
       " '2017-02-12': 1.7466666666666668,\n",
       " '2017-02-13': 0.4866666666666666,\n",
       " '2017-02-14': 0.0016666666666666668,\n",
       " '2017-02-15': 0.016,\n",
       " '2017-02-16': 0.36999999999999994,\n",
       " '2017-02-17': 0.17500000000000004,\n",
       " '2017-02-18': 0.0025,\n",
       " '2017-02-19': 0.0475,\n",
       " '2017-02-20': 0.0,\n",
       " '2017-02-21': 0.026000000000000002,\n",
       " '2017-02-22': 0.13000000000000003,\n",
       " '2017-02-23': 0.0014285714285714286,\n",
       " '2017-02-24': 0.0,\n",
       " '2017-02-25': 0.0375,\n",
       " '2017-02-26': 0.0,\n",
       " '2017-02-27': 0.0,\n",
       " '2017-02-28': 0.13666666666666666,\n",
       " '2017-03-01': 1.6600000000000001,\n",
       " '2017-03-02': 1.0933333333333333,\n",
       " '2017-03-03': 0.37166666666666665,\n",
       " '2017-03-04': 0.0,\n",
       " '2017-03-05': 0.3025,\n",
       " '2017-03-06': 0.135,\n",
       " '2017-03-07': 0.0,\n",
       " '2017-03-08': 0.0,\n",
       " '2017-03-09': 0.3266666666666667,\n",
       " '2017-03-10': 0.04142857142857143,\n",
       " '2017-03-11': 0.008,\n",
       " '2017-03-12': 0.0,\n",
       " '2017-03-13': 0.0,\n",
       " '2017-03-14': 0.008571428571428572,\n",
       " '2017-03-15': 0.01,\n",
       " '2017-03-16': 0.0,\n",
       " '2017-03-17': 0.144,\n",
       " '2017-03-18': 0.0,\n",
       " '2017-03-19': 0.0,\n",
       " '2017-03-20': 0.004,\n",
       " '2017-03-21': 0.015,\n",
       " '2017-03-22': 0.0,\n",
       " '2017-03-23': 0.008333333333333333,\n",
       " '2017-03-24': 0.18833333333333335,\n",
       " '2017-03-25': 0.394,\n",
       " '2017-03-26': 0.0,\n",
       " '2017-03-27': 0.002,\n",
       " '2017-03-28': 0.11833333333333335,\n",
       " '2017-03-29': 0.03166666666666667,\n",
       " '2017-03-30': 0.03,\n",
       " '2017-03-31': 0.0016666666666666668,\n",
       " '2017-04-01': 0.06833333333333334,\n",
       " '2017-04-02': 0.0,\n",
       " '2017-04-03': 0.11,\n",
       " '2017-04-04': 0.02142857142857143,\n",
       " '2017-04-05': 0.09428571428571429,\n",
       " '2017-04-06': 0.008571428571428572,\n",
       " '2017-04-07': 0.0,\n",
       " '2017-04-08': 0.0,\n",
       " '2017-04-09': 0.0,\n",
       " '2017-04-10': 0.0033333333333333335,\n",
       " '2017-04-11': 0.07833333333333332,\n",
       " '2017-04-12': 0.18000000000000002,\n",
       " '2017-04-13': 0.18166666666666667,\n",
       " '2017-04-14': 1.1199999999999999,\n",
       " '2017-04-15': 0.34800000000000003,\n",
       " '2017-04-16': 0.21400000000000002,\n",
       " '2017-04-17': 0.6140000000000001,\n",
       " '2017-04-18': 0.48,\n",
       " '2017-04-19': 0.03333333333333333,\n",
       " '2017-04-20': 0.13,\n",
       " '2017-04-21': 1.3966666666666667,\n",
       " '2017-04-22': 0.9920000000000002,\n",
       " '2017-04-23': 0.11499999999999999,\n",
       " '2017-04-24': 0.015000000000000001,\n",
       " '2017-04-25': 0.0,\n",
       " '2017-04-26': 0.065,\n",
       " '2017-04-27': 0.06999999999999999,\n",
       " '2017-04-28': 0.7066666666666667,\n",
       " '2017-04-29': 1.3399999999999999,\n",
       " '2017-04-30': 1.07,\n",
       " '2017-05-01': 0.135,\n",
       " '2017-05-02': 0.008333333333333333,\n",
       " '2017-05-03': 0.006,\n",
       " '2017-05-04': 0.016,\n",
       " '2017-05-05': 0.06333333333333334,\n",
       " '2017-05-06': 0.01,\n",
       " '2017-05-07': 0.024,\n",
       " '2017-05-08': 0.5016666666666666,\n",
       " '2017-05-09': 0.9260000000000002,\n",
       " '2017-05-10': 0.14333333333333334,\n",
       " '2017-05-11': 0.12,\n",
       " '2017-05-12': 0.032,\n",
       " '2017-05-13': 0.048,\n",
       " '2017-05-14': 0.244,\n",
       " '2017-05-15': 0.176,\n",
       " '2017-05-16': 0.06999999999999999,\n",
       " '2017-05-17': 0.025000000000000005,\n",
       " '2017-05-18': 0.14166666666666666,\n",
       " '2017-05-19': 0.01,\n",
       " '2017-05-20': 0.0075,\n",
       " '2017-05-21': 0.002,\n",
       " '2017-05-22': 0.072,\n",
       " '2017-05-23': 0.11833333333333333,\n",
       " '2017-05-24': 0.6483333333333333,\n",
       " '2017-05-25': 0.37000000000000005,\n",
       " '2017-05-26': 0.004,\n",
       " '2017-05-27': 0.085,\n",
       " '2017-05-28': 0.06833333333333334,\n",
       " '2017-05-29': 0.084,\n",
       " '2017-05-30': 0.346,\n",
       " '2017-05-31': 0.074,\n",
       " '2017-06-01': 0.006666666666666667,\n",
       " '2017-06-02': 0.06799999999999999,\n",
       " '2017-06-03': 0.122,\n",
       " '2017-06-04': 0.19166666666666665,\n",
       " '2017-06-05': 0.013333333333333334,\n",
       " '2017-06-06': 0.0,\n",
       " '2017-06-07': 0.0016666666666666668,\n",
       " '2017-06-08': 0.005,\n",
       " '2017-06-09': 0.008,\n",
       " '2017-06-10': 0.306,\n",
       " '2017-06-11': 0.35833333333333334,\n",
       " '2017-06-12': 0.2916666666666667,\n",
       " '2017-06-13': 0.22999999999999998,\n",
       " '2017-06-14': 0.26166666666666666,\n",
       " '2017-06-15': 0.45166666666666666,\n",
       " '2017-06-16': 0.03333333333333333,\n",
       " '2017-06-17': 0.09000000000000001,\n",
       " '2017-06-18': 0.23666666666666666,\n",
       " '2017-06-19': 0.12166666666666666,\n",
       " '2017-06-20': 0.11000000000000001,\n",
       " '2017-06-21': 0.1275,\n",
       " '2017-06-22': 0.07333333333333335,\n",
       " '2017-06-23': 0.11166666666666665,\n",
       " '2017-06-24': 0.128,\n",
       " '2017-06-25': 0.12,\n",
       " '2017-06-26': 0.02,\n",
       " '2017-06-27': 0.018333333333333333,\n",
       " '2017-06-28': 0.005,\n",
       " '2017-06-29': 0.011666666666666667,\n",
       " '2017-06-30': 0.07428571428571429,\n",
       " '2017-07-01': 0.065,\n",
       " '2017-07-02': 0.18,\n",
       " '2017-07-03': 0.148,\n",
       " '2017-07-04': 0.037500000000000006,\n",
       " '2017-07-05': 0.0,\n",
       " '2017-07-06': 0.004,\n",
       " '2017-07-07': 0.1,\n",
       " '2017-07-08': 0.016666666666666666,\n",
       " '2017-07-09': 0.03333333333333333,\n",
       " '2017-07-10': 0.006666666666666667,\n",
       " '2017-07-11': 0.005,\n",
       " '2017-07-12': 0.060000000000000005,\n",
       " '2017-07-13': 0.3016666666666667,\n",
       " '2017-07-14': 0.15833333333333335,\n",
       " '2017-07-15': 0.03166666666666667,\n",
       " '2017-07-16': 0.135,\n",
       " '2017-07-17': 0.15166666666666667,\n",
       " '2017-07-18': 0.3614285714285714,\n",
       " '2017-07-19': 0.06833333333333334,\n",
       " '2017-07-20': 0.17714285714285713,\n",
       " '2017-07-21': 0.018571428571428572,\n",
       " '2017-07-22': 0.7366666666666667,\n",
       " '2017-07-23': 0.22600000000000003,\n",
       " '2017-07-24': 0.6539999999999999,\n",
       " '2017-07-25': 0.08714285714285715,\n",
       " '2017-07-26': 0.08333333333333333,\n",
       " '2017-07-27': 0.0016666666666666668,\n",
       " '2017-07-28': 0.11,\n",
       " '2017-07-29': 0.10166666666666667,\n",
       " '2017-07-30': 0.06,\n",
       " '2017-07-31': 0.0,\n",
       " '2017-08-01': 0.04666666666666666,\n",
       " '2017-08-02': 0.075,\n",
       " '2017-08-03': 0.017499999999999998,\n",
       " '2017-08-04': 0.015,\n",
       " '2017-08-05': 0.03,\n",
       " '2017-08-06': 0.0,\n",
       " '2017-08-07': 0.0125,\n",
       " '2017-08-08': 0.11000000000000001,\n",
       " '2017-08-09': 0.049999999999999996,\n",
       " '2017-08-10': 0.0175,\n",
       " '2017-08-11': 0.0,\n",
       " '2017-08-12': 0.04666666666666667,\n",
       " '2017-08-13': 0.0,\n",
       " '2017-08-14': 0.062,\n",
       " '2017-08-15': 0.164,\n",
       " '2017-08-16': 0.1525,\n",
       " '2017-08-17': 0.0475,\n",
       " '2017-08-18': 0.02,\n",
       " '2017-08-19': 0.03,\n",
       " '2017-08-20': 0.005,\n",
       " '2017-08-21': 0.19333333333333336,\n",
       " '2017-08-22': 0.16666666666666666,\n",
       " '2017-08-23': 0.1325}"
      ]
     },
     "execution_count": 17,
     "metadata": {},
     "output_type": "execute_result"
    }
   ],
   "source": [
    "year_precip = session.query(Measurement.date, func.avg(Measurement.prcp).label('Average')).\\\n",
    "        filter(Measurement.date >= last_date).\\\n",
    "        order_by(Measurement.date.asc()).\\\n",
    "        group_by(Measurement.date)\n",
    "\n",
    "precip_dict = {}\n",
    "for day in year_precip:\n",
    "    date = day.date\n",
    "    prcp = day.Average\n",
    "    precip_dict[date] = prcp\n",
    "\n",
    "precip_dict"
   ]
  },
  {
   "cell_type": "code",
   "execution_count": 18,
   "metadata": {},
   "outputs": [],
   "source": [
    "dates = [item.date for item in last_year_query]\n",
    "precipitation = [item.Average for item in last_year_query]"
   ]
  },
  {
   "cell_type": "code",
   "execution_count": 19,
   "metadata": {},
   "outputs": [
    {
     "data": {
      "text/html": [
       "<div>\n",
       "<style scoped>\n",
       "    .dataframe tbody tr th:only-of-type {\n",
       "        vertical-align: middle;\n",
       "    }\n",
       "\n",
       "    .dataframe tbody tr th {\n",
       "        vertical-align: top;\n",
       "    }\n",
       "\n",
       "    .dataframe thead th {\n",
       "        text-align: right;\n",
       "    }\n",
       "</style>\n",
       "<table border=\"1\" class=\"dataframe\">\n",
       "  <thead>\n",
       "    <tr style=\"text-align: right;\">\n",
       "      <th></th>\n",
       "      <th>Avg Precipitation</th>\n",
       "    </tr>\n",
       "  </thead>\n",
       "  <tbody>\n",
       "    <tr>\n",
       "      <th>2016-08-24</th>\n",
       "      <td>1.555000</td>\n",
       "    </tr>\n",
       "    <tr>\n",
       "      <th>2016-08-25</th>\n",
       "      <td>0.077143</td>\n",
       "    </tr>\n",
       "    <tr>\n",
       "      <th>2016-08-26</th>\n",
       "      <td>0.016667</td>\n",
       "    </tr>\n",
       "    <tr>\n",
       "      <th>2016-08-27</th>\n",
       "      <td>0.064000</td>\n",
       "    </tr>\n",
       "    <tr>\n",
       "      <th>2016-08-28</th>\n",
       "      <td>0.516667</td>\n",
       "    </tr>\n",
       "  </tbody>\n",
       "</table>\n",
       "</div>"
      ],
      "text/plain": [
       "            Avg Precipitation\n",
       "2016-08-24           1.555000\n",
       "2016-08-25           0.077143\n",
       "2016-08-26           0.016667\n",
       "2016-08-27           0.064000\n",
       "2016-08-28           0.516667"
      ]
     },
     "execution_count": 19,
     "metadata": {},
     "output_type": "execute_result"
    }
   ],
   "source": [
    "precip_df = pd.DataFrame(precipitation, index=dates, columns=['Avg Precipitation'])\n",
    "precip_df.head()\n",
    "\n",
    "# Calculate the date 1 year ago from the last data point in the database\n",
    "\n",
    "# Perform a query to retrieve the date and precipitation scores\n",
    "\n",
    "# Save the query results as a Pandas DataFrame and set the index to the date column\n",
    "\n",
    "# Sort the dataframe by date\n",
    "\n",
    "# Use Pandas Plotting with Matplotlib to plot the data"
   ]
  },
  {
   "cell_type": "code",
   "execution_count": 20,
   "metadata": {},
   "outputs": [
    {
     "data": {
      "text/plain": [
       "Text(0, 0.5, 'Avg Precipitation')"
      ]
     },
     "execution_count": 20,
     "metadata": {},
     "output_type": "execute_result"
    },
    {
     "data": {
      "image/png": "[encoded data removed]",
      "text/plain": [
       "<Figure size 432x288 with 1 Axes>"
      ]
     },
     "metadata": {
      "needs_background": "light"
     },
     "output_type": "display_data"
    }
   ],
   "source": [
    "plt.plot(precip_df)\n",
    "plt.xlabel('Date')\n",
    "plt.ylabel('Avg Precipitation')"
   ]
  },
  {
   "cell_type": "code",
   "execution_count": 21,
   "metadata": {},
   "outputs": [],
   "source": [
    "# id INTEGER\n",
    "# station TEXT\n",
    "# date TEXT\n",
    "# prcp FLOAT\n",
    "# tobs FLOAT\n"
   ]
  },
  {
   "cell_type": "markdown",
   "metadata": {},
   "source": [
    "![precipitation](Images/precipitation.png)"
   ]
  },
  {
   "cell_type": "code",
   "execution_count": 22,
   "metadata": {},
   "outputs": [
    {
     "data": {
      "text/html": [
       "<div>\n",
       "<style scoped>\n",
       "    .dataframe tbody tr th:only-of-type {\n",
       "        vertical-align: middle;\n",
       "    }\n",
       "\n",
       "    .dataframe tbody tr th {\n",
       "        vertical-align: top;\n",
       "    }\n",
       "\n",
       "    .dataframe thead th {\n",
       "        text-align: right;\n",
       "    }\n",
       "</style>\n",
       "<table border=\"1\" class=\"dataframe\">\n",
       "  <thead>\n",
       "    <tr style=\"text-align: right;\">\n",
       "      <th></th>\n",
       "      <th>Avg Precipitation</th>\n",
       "    </tr>\n",
       "  </thead>\n",
       "  <tbody>\n",
       "    <tr>\n",
       "      <th>count</th>\n",
       "      <td>365.000000</td>\n",
       "    </tr>\n",
       "    <tr>\n",
       "      <th>mean</th>\n",
       "      <td>0.169987</td>\n",
       "    </tr>\n",
       "    <tr>\n",
       "      <th>std</th>\n",
       "      <td>0.295722</td>\n",
       "    </tr>\n",
       "    <tr>\n",
       "      <th>min</th>\n",
       "      <td>0.000000</td>\n",
       "    </tr>\n",
       "    <tr>\n",
       "      <th>25%</th>\n",
       "      <td>0.008571</td>\n",
       "    </tr>\n",
       "    <tr>\n",
       "      <th>50%</th>\n",
       "      <td>0.070000</td>\n",
       "    </tr>\n",
       "    <tr>\n",
       "      <th>75%</th>\n",
       "      <td>0.191667</td>\n",
       "    </tr>\n",
       "    <tr>\n",
       "      <th>max</th>\n",
       "      <td>2.380000</td>\n",
       "    </tr>\n",
       "  </tbody>\n",
       "</table>\n",
       "</div>"
      ],
      "text/plain": [
       "       Avg Precipitation\n",
       "count         365.000000\n",
       "mean            0.169987\n",
       "std             0.295722\n",
       "min             0.000000\n",
       "25%             0.008571\n",
       "50%             0.070000\n",
       "75%             0.191667\n",
       "max             2.380000"
      ]
     },
     "execution_count": 22,
     "metadata": {},
     "output_type": "execute_result"
    }
   ],
   "source": [
    "# Use Pandas to calculate the summary statistics for the precipitation data\n",
    "#assuming this is using the year of data you just created above\n",
    "#need to correct the query to get 365 days worth of data\n",
    "precip_df.describe()"
   ]
  },
  {
   "cell_type": "markdown",
   "metadata": {},
   "source": [
    "![describe](Images/describe.png)"
   ]
  },
  {
   "cell_type": "code",
   "execution_count": 23,
   "metadata": {},
   "outputs": [
    {
     "name": "stdout",
     "output_type": "stream",
     "text": [
      "id INTEGER\n",
      "station TEXT\n",
      "name TEXT\n",
      "latitude FLOAT\n",
      "longitude FLOAT\n",
      "elevation FLOAT\n"
     ]
    }
   ],
   "source": [
    "columns = inspector.get_columns('station')\n",
    "for column in columns:\n",
    "    print(column[\"name\"], column[\"type\"])"
   ]
  },
  {
   "cell_type": "code",
   "execution_count": 24,
   "metadata": {},
   "outputs": [
    {
     "data": {
      "text/plain": [
       "[(9)]"
      ]
     },
     "execution_count": 24,
     "metadata": {},
     "output_type": "execute_result"
    }
   ],
   "source": [
    "# Design a query to show how many stations are available in this dataset?\n",
    "stations_query = session.query(func.count(Station.id)).all()\n",
    "stations_query"
   ]
  },
  {
   "cell_type": "code",
   "execution_count": 54,
   "metadata": {},
   "outputs": [
    {
     "data": {
      "text/plain": [
       "['WAIKIKI 717.2, HI US1',\n",
       " 'KANEOHE 838.1, HI US2',\n",
       " 'KUALOA RANCH HEADQUARTERS 886.9, HI US3',\n",
       " 'PEARL CITY, HI US4',\n",
       " 'UPPER WAHIAWA 874.3, HI US5',\n",
       " 'WAIMANALO EXPERIMENTAL FARM, HI US6',\n",
       " 'WAIHEE 837.5, HI US7',\n",
       " 'HONOLULU OBSERVATORY 702.2, HI US8',\n",
       " 'MANOA LYON ARBO 785.2, HI US9']"
      ]
     },
     "execution_count": 54,
     "metadata": {},
     "output_type": "execute_result"
    }
   ],
   "source": [
    "station_names = session.query(Station.name, Station.id)\n",
    "\n",
    "names = [station.name + str(station.id) for station in station_names]\n",
    "\n",
    "names"
   ]
  },
  {
   "cell_type": "code",
   "execution_count": 25,
   "metadata": {},
   "outputs": [
    {
     "data": {
      "text/plain": [
       "[('USC00519281', 2772),\n",
       " ('USC00519397', 2724),\n",
       " ('USC00513117', 2709),\n",
       " ('USC00519523', 2669),\n",
       " ('USC00516128', 2612),\n",
       " ('USC00514830', 2202),\n",
       " ('USC00511918', 1979),\n",
       " ('USC00517948', 1372),\n",
       " ('USC00518838', 511)]"
      ]
     },
     "execution_count": 25,
     "metadata": {},
     "output_type": "execute_result"
    }
   ],
   "source": [
    "# What are the most active stations? (i.e. what stations have the most rows)?\n",
    "# List the stations and the counts in descending order.\n",
    "station_info = session.query(Measurement.station, func.count(Measurement.station).label('Count')).\\\n",
    "        order_by(func.count(Measurement.station).desc()).\\\n",
    "        group_by(Measurement.station).all()\n",
    "station_info"
   ]
  },
  {
   "cell_type": "code",
   "execution_count": 26,
   "metadata": {},
   "outputs": [
    {
     "data": {
      "text/plain": [
       "'USC00519281'"
      ]
     },
     "execution_count": 26,
     "metadata": {},
     "output_type": "execute_result"
    }
   ],
   "source": [
    "top_station = station_info[0][0]\n",
    "top_station"
   ]
  },
  {
   "cell_type": "code",
   "execution_count": 27,
   "metadata": {},
   "outputs": [
    {
     "data": {
      "text/plain": [
       "[('USC00519281', 85.0, 54.0, 71.66378066378067)]"
      ]
     },
     "execution_count": 27,
     "metadata": {},
     "output_type": "execute_result"
    }
   ],
   "source": [
    "# Using the station id from the previous query, calculate the lowest temperature recorded, \n",
    "# highest temperature recorded, and average temperature most active station?\n",
    "most_active_info = session.query(Measurement.station, func.max(Measurement.tobs), func.min(Measurement.tobs), func.avg(Measurement.tobs) ).\\\n",
    "    filter(Measurement.station == station_info[0][0]).all()\n",
    "most_active_info"
   ]
  },
  {
   "cell_type": "code",
   "execution_count": 28,
   "metadata": {},
   "outputs": [],
   "source": [
    "# Choose the station with the highest number of temperature observations.\n",
    "# Query the last 12 months of temperature observation data for this station and plot the results as a histogram\n",
    "most_active_tobs = session.query(Measurement.station, Measurement.tobs).\\\n",
    "    filter(Measurement.station == top_station).all()\n",
    "\n",
    "observations = list(zip(*most_active_tobs))[1]"
   ]
  },
  {
   "cell_type": "code",
   "execution_count": 29,
   "metadata": {},
   "outputs": [
    {
     "data": {
      "text/plain": [
       "(array([ 11.,  26.,  89., 192., 447., 782., 743., 347., 119.,  16.]),\n",
       " array([54. , 57.1, 60.2, 63.3, 66.4, 69.5, 72.6, 75.7, 78.8, 81.9, 85. ]),\n",
       " <a list of 10 Patch objects>)"
      ]
     },
     "execution_count": 29,
     "metadata": {},
     "output_type": "execute_result"
    },
    {
     "data": {
      "image/png": "[encoded data removed]",
      "text/plain": [
       "<Figure size 432x288 with 1 Axes>"
      ]
     },
     "metadata": {
      "needs_background": "light"
     },
     "output_type": "display_data"
    }
   ],
   "source": [
    "#Confused about which data we're supposed to be running these queries on\n",
    "plt.hist(observations)"
   ]
  },
  {
   "cell_type": "markdown",
   "metadata": {},
   "source": [
    "![precipitation](Images/station-histogram.png)"
   ]
  },
  {
   "cell_type": "code",
   "execution_count": 30,
   "metadata": {},
   "outputs": [
    {
     "name": "stdout",
     "output_type": "stream",
     "text": [
      "[(62.0, 69.57142857142857, 74.0)]\n"
     ]
    }
   ],
   "source": [
    "# This function called `calc_temps` will accept start date and end date in the format '%Y-%m-%d' \n",
    "# and return the minimum, average, and maximum temperatures for that range of dates\n",
    "def calc_temps(start_date, end_date):\n",
    "    \"\"\"TMIN, TAVG, and TMAX for a list of dates.\n",
    "    \n",
    "    Args:\n",
    "        start_date (string): A date string in the format %Y-%m-%d\n",
    "        end_date (string): A date string in the format %Y-%m-%d\n",
    "        \n",
    "    Returns:\n",
    "        TMIN, TAVE, and TMAX\n",
    "    \"\"\"\n",
    "    \n",
    "    return session.query(func.min(Measurement.tobs), func.avg(Measurement.tobs), func.max(Measurement.tobs)).\\\n",
    "        filter(Measurement.date >= start_date).filter(Measurement.date <= end_date).all()\n",
    "\n",
    "# function usage example\n",
    "print(calc_temps('2012-02-28', '2012-03-05'))"
   ]
  },
  {
   "cell_type": "code",
   "execution_count": 31,
   "metadata": {},
   "outputs": [
    {
     "name": "stdout",
     "output_type": "stream",
     "text": [
      "(65.0, 75.21794871794872, 80.0)\n"
     ]
    }
   ],
   "source": [
    "# Use your previous function `calc_temps` to calculate the tmin, tavg, and tmax \n",
    "# for your trip using the previous year's data for those same dates.\n",
    "trip = {'start':'2017-05-01', 'end':'2017-05-14'}\n",
    "my_trip_info = calc_temps(trip['start'], trip['end'])[0]\n",
    "print(my_trip_info)"
   ]
  },
  {
   "cell_type": "code",
   "execution_count": 32,
   "metadata": {},
   "outputs": [
    {
     "data": {
      "text/plain": [
       "<BarContainer object of 1 artists>"
      ]
     },
     "execution_count": 32,
     "metadata": {},
     "output_type": "execute_result"
    },
    {
     "data": {
      "image/png": "[encoded data removed]",
      "text/plain": [
       "<Figure size 432x288 with 1 Axes>"
      ]
     },
     "metadata": {
      "needs_background": "light"
     },
     "output_type": "display_data"
    }
   ],
   "source": [
    "#Add formatting\n",
    "temp_range = my_trip_info[2] - my_trip_info[0]\n",
    "plt.bar(1,my_trip_info[0], yerr = temp_range)"
   ]
  },
  {
   "cell_type": "code",
   "execution_count": 33,
   "metadata": {},
   "outputs": [],
   "source": [
    "# Plot the results from your previous query as a bar chart. \n",
    "# Use \"Trip Avg Temp\" as your Title\n",
    "# Use the average temperature for the y value\n",
    "# Use the peak-to-peak (tmax-tmin) value as the y error bar (yerr)\n"
   ]
  },
  {
   "cell_type": "code",
   "execution_count": 34,
   "metadata": {},
   "outputs": [],
   "source": [
    "# id INTEGER\n",
    "# station TEXT\n",
    "# name TEXT\n",
    "# latitude FLOAT\n",
    "# longitude FLOAT\n",
    "# elevation FLOAT"
   ]
  },
  {
   "cell_type": "code",
   "execution_count": 35,
   "metadata": {},
   "outputs": [],
   "source": [
    "# sel = [EA.family, EA.genus, EA.species, NA.family, NA.genus, NA.species]\n",
    "# same_sporder = session.query(*sel).filter(EA.sporder == NA.sporder).limit(10).all()"
   ]
  },
  {
   "cell_type": "code",
   "execution_count": 36,
   "metadata": {},
   "outputs": [
    {
     "data": {
      "text/plain": [
       "[('USC00516128',\n",
       "  'MANOA LYON ARBO 785.2, HI US',\n",
       "  21.3331,\n",
       "  -157.8025,\n",
       "  152.4,\n",
       "  3.9100000000000006),\n",
       " ('USC00519281',\n",
       "  'WAIHEE 837.5, HI US',\n",
       "  21.45167,\n",
       "  -157.84888999999998,\n",
       "  32.9,\n",
       "  3.1100000000000003),\n",
       " ('USC00513117',\n",
       "  'KANEOHE 838.1, HI US',\n",
       "  21.4234,\n",
       "  -157.8015,\n",
       "  14.6,\n",
       "  2.2099999999999995),\n",
       " ('USC00514830',\n",
       "  'KUALOA RANCH HEADQUARTERS 886.9, HI US',\n",
       "  21.5213,\n",
       "  -157.8374,\n",
       "  7.0,\n",
       "  1.94),\n",
       " ('USC00519523',\n",
       "  'WAIMANALO EXPERIMENTAL FARM, HI US',\n",
       "  21.33556,\n",
       "  -157.71139,\n",
       "  19.5,\n",
       "  0.81),\n",
       " ('USC00519397', 'WAIKIKI 717.2, HI US', 21.2716, -157.8168, 3.0, 0.27)]"
      ]
     },
     "execution_count": 36,
     "metadata": {},
     "output_type": "execute_result"
    }
   ],
   "source": [
    "# Calculate the rainfall per weather station for your trip dates using the previous year's matching dates.\n",
    "# Sort this in descending order by precipitation amount and list the station, name, latitude, longitude, and elevation\n",
    "sel = [Station.name, Station.latitude, Station.longitude, Station.elevation, func.sum(Measurement.prcp).label('Total Precipitation')]\n",
    "trip_precip = session.query(Measurement.station, Station.name, Station.latitude, Station.longitude, Station.elevation, func.sum(Measurement.prcp).label('Total Precipitation')).\\\n",
    "        filter(Measurement.date >= trip['start'], Measurement.date <= trip['end'],Station.station == Measurement.station).\\\n",
    "        order_by(func.sum(Measurement.prcp).desc()).\\\n",
    "        group_by(Station.station).all()\n",
    "\n",
    "trip_precip\n"
   ]
  },
  {
   "cell_type": "code",
   "execution_count": 44,
   "metadata": {},
   "outputs": [
    {
     "data": {
      "text/plain": [
       "[('2016-08-24', 77.57142857142857),\n",
       " ('2016-08-25', 79.42857142857143),\n",
       " ('2016-08-26', 80.5),\n",
       " ('2016-08-27', 76.83333333333333),\n",
       " ('2016-08-28', 76.0),\n",
       " ('2016-08-29', 78.71428571428571),\n",
       " ('2016-08-30', 77.33333333333333),\n",
       " ('2016-08-31', 78.28571428571429),\n",
       " ('2016-09-01', 80.16666666666667),\n",
       " ('2016-09-02', 79.42857142857143),\n",
       " ('2016-09-03', 77.4),\n",
       " ('2016-09-04', 77.0),\n",
       " ('2016-09-05', 79.5),\n",
       " ('2016-09-06', 75.66666666666667),\n",
       " ('2016-09-07', 75.83333333333333),\n",
       " ('2016-09-08', 78.71428571428571),\n",
       " ('2016-09-09', 77.42857142857143),\n",
       " ('2016-09-10', 76.8),\n",
       " ('2016-09-11', 77.2),\n",
       " ('2016-09-12', 76.85714285714286),\n",
       " ('2016-09-13', 77.57142857142857),\n",
       " ('2016-09-14', 75.85714285714286),\n",
       " ('2016-09-15', 77.85714285714286),\n",
       " ('2016-09-16', 77.85714285714286),\n",
       " ('2016-09-17', 78.6),\n",
       " ('2016-09-18', 78.6),\n",
       " ('2016-09-19', 76.57142857142857),\n",
       " ('2016-09-20', 75.85714285714286),\n",
       " ('2016-09-21', 76.66666666666667),\n",
       " ('2016-09-22', 76.57142857142857),\n",
       " ('2016-09-23', 78.57142857142857),\n",
       " ('2016-09-24', 80.16666666666667),\n",
       " ('2016-09-25', 79.0),\n",
       " ('2016-09-26', 77.71428571428571),\n",
       " ('2016-09-27', 78.0),\n",
       " ('2016-09-28', 78.28571428571429),\n",
       " ('2016-09-29', 78.85714285714286),\n",
       " ('2016-09-30', 78.0),\n",
       " ('2016-10-01', 77.5),\n",
       " ('2016-10-02', 78.16666666666667),\n",
       " ('2016-10-03', 78.57142857142857),\n",
       " ('2016-10-04', 78.28571428571429),\n",
       " ('2016-10-05', 78.71428571428571),\n",
       " ('2016-10-06', 77.85714285714286),\n",
       " ('2016-10-07', 77.42857142857143),\n",
       " ('2016-10-08', 76.6),\n",
       " ('2016-10-09', 76.4),\n",
       " ('2016-10-10', 75.0),\n",
       " ('2016-10-11', 78.28571428571429),\n",
       " ('2016-10-12', 78.83333333333333),\n",
       " ('2016-10-13', 78.57142857142857),\n",
       " ('2016-10-14', 78.0),\n",
       " ('2016-10-15', 77.66666666666667),\n",
       " ('2016-10-16', 78.0),\n",
       " ('2016-10-17', 77.14285714285714),\n",
       " ('2016-10-18', 78.42857142857143),\n",
       " ('2016-10-19', 77.57142857142857),\n",
       " ('2016-10-20', 76.83333333333333),\n",
       " ('2016-10-21', 76.85714285714286),\n",
       " ('2016-10-22', 77.6),\n",
       " ('2016-10-23', 76.83333333333333),\n",
       " ('2016-10-24', 75.28571428571429),\n",
       " ('2016-10-25', 77.0),\n",
       " ('2016-10-26', 75.16666666666667),\n",
       " ('2016-10-27', 76.0),\n",
       " ('2016-10-28', 75.57142857142857),\n",
       " ('2016-10-29', 76.0),\n",
       " ('2016-10-30', 77.16666666666667),\n",
       " ('2016-10-31', 75.42857142857143),\n",
       " ('2016-11-01', 76.16666666666667),\n",
       " ('2016-11-02', 76.33333333333333),\n",
       " ('2016-11-03', 75.66666666666667),\n",
       " ('2016-11-04', 76.0),\n",
       " ('2016-11-05', 74.5),\n",
       " ('2016-11-06', 75.83333333333333),\n",
       " ('2016-11-07', 71.0),\n",
       " ('2016-11-08', 72.16666666666667),\n",
       " ('2016-11-09', 72.14285714285714),\n",
       " ('2016-11-10', 70.83333333333333),\n",
       " ('2016-11-11', 72.83333333333333),\n",
       " ('2016-11-12', 73.83333333333333),\n",
       " ('2016-11-13', 75.0),\n",
       " ('2016-11-14', 77.0),\n",
       " ('2016-11-15', 76.28571428571429),\n",
       " ('2016-11-16', 76.0),\n",
       " ('2016-11-17', 76.28571428571429),\n",
       " ('2016-11-18', 76.4),\n",
       " ('2016-11-19', 74.25),\n",
       " ('2016-11-20', 76.0),\n",
       " ('2016-11-21', 73.83333333333333),\n",
       " ('2016-11-22', 75.28571428571429),\n",
       " ('2016-11-23', 73.66666666666667),\n",
       " ('2016-11-24', 73.6),\n",
       " ('2016-11-25', 74.0),\n",
       " ('2016-11-26', 75.0),\n",
       " ('2016-11-27', 74.5),\n",
       " ('2016-11-28', 75.0),\n",
       " ('2016-11-29', 72.42857142857143),\n",
       " ('2016-11-30', 74.42857142857143),\n",
       " ('2016-12-01', 73.71428571428571),\n",
       " ('2016-12-02', 72.28571428571429),\n",
       " ('2016-12-03', 71.5),\n",
       " ('2016-12-04', 73.0),\n",
       " ('2016-12-05', 69.14285714285714),\n",
       " ('2016-12-06', 69.16666666666667),\n",
       " ('2016-12-07', 71.14285714285714),\n",
       " ('2016-12-08', 72.0),\n",
       " ('2016-12-09', 69.66666666666667),\n",
       " ('2016-12-10', 71.0),\n",
       " ('2016-12-11', 71.6),\n",
       " ('2016-12-12', 68.14285714285714),\n",
       " ('2016-12-13', 68.42857142857143),\n",
       " ('2016-12-14', 69.71428571428571),\n",
       " ('2016-12-15', 68.42857142857143),\n",
       " ('2016-12-16', 65.42857142857143),\n",
       " ('2016-12-17', 72.6),\n",
       " ('2016-12-18', 71.0),\n",
       " ('2016-12-19', 72.28571428571429),\n",
       " ('2016-12-20', 75.57142857142857),\n",
       " ('2016-12-21', 73.71428571428571),\n",
       " ('2016-12-22', 71.0),\n",
       " ('2016-12-23', 70.42857142857143),\n",
       " ('2016-12-24', 73.66666666666667),\n",
       " ('2016-12-25', 73.8),\n",
       " ('2016-12-26', 73.33333333333333),\n",
       " ('2016-12-27', 73.0),\n",
       " ('2016-12-28', 71.57142857142857),\n",
       " ('2016-12-29', 72.71428571428571),\n",
       " ('2016-12-30', 69.0),\n",
       " ('2016-12-31', 68.2),\n",
       " ('2017-01-01', 69.33333333333333),\n",
       " ('2017-01-02', 69.2),\n",
       " ('2017-01-03', 67.66666666666667),\n",
       " ('2017-01-04', 67.16666666666667),\n",
       " ('2017-01-05', 67.5),\n",
       " ('2017-01-06', 67.66666666666667),\n",
       " ('2017-01-07', 70.16666666666667),\n",
       " ('2017-01-08', 67.66666666666667),\n",
       " ('2017-01-09', 67.71428571428571),\n",
       " ('2017-01-10', 66.71428571428571),\n",
       " ('2017-01-11', 69.33333333333333),\n",
       " ('2017-01-12', 69.16666666666667),\n",
       " ('2017-01-13', 69.33333333333333),\n",
       " ('2017-01-14', 71.0),\n",
       " ('2017-01-15', 69.8),\n",
       " ('2017-01-16', 72.33333333333333),\n",
       " ('2017-01-17', 70.5),\n",
       " ('2017-01-18', 73.28571428571429),\n",
       " ('2017-01-19', 72.85714285714286),\n",
       " ('2017-01-20', 71.0),\n",
       " ('2017-01-21', 71.5),\n",
       " ('2017-01-22', 71.2),\n",
       " ('2017-01-23', 73.0),\n",
       " ('2017-01-24', 70.33333333333333),\n",
       " ('2017-01-25', 71.0),\n",
       " ('2017-01-26', 71.14285714285714),\n",
       " ('2017-01-27', 68.0),\n",
       " ('2017-01-28', 68.0),\n",
       " ('2017-01-29', 69.4),\n",
       " ('2017-01-30', 68.42857142857143),\n",
       " ('2017-01-31', 68.28571428571429),\n",
       " ('2017-02-01', 68.0),\n",
       " ('2017-02-02', 64.14285714285714),\n",
       " ('2017-02-03', 66.0),\n",
       " ('2017-02-04', 70.2),\n",
       " ('2017-02-05', 74.5),\n",
       " ('2017-02-06', 75.28571428571429),\n",
       " ('2017-02-07', 68.28571428571429),\n",
       " ('2017-02-08', 65.85714285714286),\n",
       " ('2017-02-09', 63.285714285714285),\n",
       " ('2017-02-10', 68.28571428571429),\n",
       " ('2017-02-11', 67.83333333333333),\n",
       " ('2017-02-12', 69.83333333333333),\n",
       " ('2017-02-13', 74.14285714285714),\n",
       " ('2017-02-14', 76.66666666666667),\n",
       " ('2017-02-15', 74.57142857142857),\n",
       " ('2017-02-16', 71.0),\n",
       " ('2017-02-17', 71.5),\n",
       " ('2017-02-18', 70.4),\n",
       " ('2017-02-19', 69.25),\n",
       " ('2017-02-20', 70.66666666666667),\n",
       " ('2017-02-21', 69.66666666666667),\n",
       " ('2017-02-22', 71.14285714285714),\n",
       " ('2017-02-23', 72.42857142857143),\n",
       " ('2017-02-24', 69.42857142857143),\n",
       " ('2017-02-25', 63.5),\n",
       " ('2017-02-26', 66.83333333333333),\n",
       " ('2017-02-27', 69.85714285714286),\n",
       " ('2017-02-28', 72.28571428571429),\n",
       " ('2017-03-01', 69.0),\n",
       " ('2017-03-02', 73.16666666666667),\n",
       " ('2017-03-03', 72.71428571428571),\n",
       " ('2017-03-04', 74.8),\n",
       " ('2017-03-05', 70.5),\n",
       " ('2017-03-06', 69.71428571428571),\n",
       " ('2017-03-07', 68.0),\n",
       " ('2017-03-08', 69.0),\n",
       " ('2017-03-09', 69.28571428571429),\n",
       " ('2017-03-10', 68.42857142857143),\n",
       " ('2017-03-11', 76.6),\n",
       " ('2017-03-12', 73.4),\n",
       " ('2017-03-13', 70.14285714285714),\n",
       " ('2017-03-14', 72.42857142857143),\n",
       " ('2017-03-15', 72.16666666666667),\n",
       " ('2017-03-16', 71.28571428571429),\n",
       " ('2017-03-17', 70.5),\n",
       " ('2017-03-18', 70.16666666666667),\n",
       " ('2017-03-19', 73.4),\n",
       " ('2017-03-20', 73.66666666666667),\n",
       " ('2017-03-21', 73.83333333333333),\n",
       " ('2017-03-22', 74.0),\n",
       " ('2017-03-23', 73.16666666666667),\n",
       " ('2017-03-24', 72.83333333333333),\n",
       " ('2017-03-25', 74.2),\n",
       " ('2017-03-26', 76.0),\n",
       " ('2017-03-27', 75.5),\n",
       " ('2017-03-28', 74.57142857142857),\n",
       " ('2017-03-29', 73.0),\n",
       " ('2017-03-30', 76.16666666666667),\n",
       " ('2017-03-31', 75.28571428571429),\n",
       " ('2017-04-01', 75.5),\n",
       " ('2017-04-02', 75.33333333333333),\n",
       " ('2017-04-03', 74.42857142857143),\n",
       " ('2017-04-04', 74.14285714285714),\n",
       " ('2017-04-05', 73.85714285714286),\n",
       " ('2017-04-06', 73.42857142857143),\n",
       " ('2017-04-07', 75.83333333333333),\n",
       " ('2017-04-08', 75.75),\n",
       " ('2017-04-09', 73.33333333333333),\n",
       " ('2017-04-10', 73.42857142857143),\n",
       " ('2017-04-11', 75.71428571428571),\n",
       " ('2017-04-12', 74.57142857142857),\n",
       " ('2017-04-13', 74.57142857142857),\n",
       " ('2017-04-14', 73.83333333333333),\n",
       " ('2017-04-15', 74.0),\n",
       " ('2017-04-16', 71.8),\n",
       " ('2017-04-17', 70.14285714285714),\n",
       " ('2017-04-18', 73.0),\n",
       " ('2017-04-19', 73.57142857142857),\n",
       " ('2017-04-20', 74.71428571428571),\n",
       " ('2017-04-21', 70.85714285714286),\n",
       " ('2017-04-22', 73.8),\n",
       " ('2017-04-23', 74.5),\n",
       " ('2017-04-24', 76.14285714285714),\n",
       " ('2017-04-25', 75.57142857142857),\n",
       " ('2017-04-26', 77.5),\n",
       " ('2017-04-27', 75.57142857142857),\n",
       " ('2017-04-28', 73.28571428571429),\n",
       " ('2017-04-29', 69.83333333333333),\n",
       " ('2017-04-30', 61.5),\n",
       " ('2017-05-01', 72.0),\n",
       " ('2017-05-02', 76.5),\n",
       " ('2017-05-03', 75.6),\n",
       " ('2017-05-04', 76.33333333333333),\n",
       " ('2017-05-05', 76.33333333333333),\n",
       " ('2017-05-06', 77.5),\n",
       " ('2017-05-07', 75.4),\n",
       " ('2017-05-08', 72.83333333333333),\n",
       " ('2017-05-09', 73.4),\n",
       " ('2017-05-10', 75.16666666666667),\n",
       " ('2017-05-11', 75.6),\n",
       " ('2017-05-12', 75.5),\n",
       " ('2017-05-13', 75.4),\n",
       " ('2017-05-14', 75.4),\n",
       " ('2017-05-15', 75.5),\n",
       " ('2017-05-16', 75.16666666666667),\n",
       " ('2017-05-17', 75.5),\n",
       " ('2017-05-18', 71.66666666666667),\n",
       " ('2017-05-19', 73.25),\n",
       " ('2017-05-20', 75.66666666666667),\n",
       " ('2017-05-21', 74.2),\n",
       " ('2017-05-22', 75.16666666666667),\n",
       " ('2017-05-23', 75.66666666666667),\n",
       " ('2017-05-24', 74.66666666666667),\n",
       " ('2017-05-25', 74.83333333333333),\n",
       " ('2017-05-26', 75.0),\n",
       " ('2017-05-27', 74.5),\n",
       " ('2017-05-28', 76.5),\n",
       " ('2017-05-29', 75.8),\n",
       " ('2017-05-30', 75.5),\n",
       " ('2017-05-31', 78.0),\n",
       " ('2017-06-01', 78.16666666666667),\n",
       " ('2017-06-02', 78.16666666666667),\n",
       " ('2017-06-03', 77.33333333333333),\n",
       " ('2017-06-04', 78.5),\n",
       " ('2017-06-05', 77.42857142857143),\n",
       " ('2017-06-06', 77.28571428571429),\n",
       " ('2017-06-07', 78.14285714285714),\n",
       " ('2017-06-08', 77.14285714285714),\n",
       " ('2017-06-09', 78.16666666666667),\n",
       " ('2017-06-10', 75.16666666666667),\n",
       " ('2017-06-11', 77.0),\n",
       " ('2017-06-12', 77.66666666666667),\n",
       " ('2017-06-13', 76.85714285714286),\n",
       " ('2017-06-14', 77.28571428571429),\n",
       " ('2017-06-15', 77.14285714285714),\n",
       " ('2017-06-16', 77.14285714285714),\n",
       " ('2017-06-17', 77.16666666666667),\n",
       " ('2017-06-18', 76.0),\n",
       " ('2017-06-19', 77.0),\n",
       " ('2017-06-20', 75.83333333333333),\n",
       " ('2017-06-21', 77.66666666666667),\n",
       " ('2017-06-22', 77.66666666666667),\n",
       " ('2017-06-23', 75.42857142857143),\n",
       " ('2017-06-24', 77.2),\n",
       " ('2017-06-25', 76.6),\n",
       " ('2017-06-26', 79.0),\n",
       " ('2017-06-27', 78.0),\n",
       " ('2017-06-28', 77.66666666666667),\n",
       " ('2017-06-29', 77.14285714285714),\n",
       " ('2017-06-30', 75.71428571428571),\n",
       " ('2017-07-01', 77.25),\n",
       " ('2017-07-02', 79.2),\n",
       " ('2017-07-03', 79.57142857142857),\n",
       " ('2017-07-04', 78.0),\n",
       " ('2017-07-05', 78.57142857142857),\n",
       " ('2017-07-06', 77.16666666666667),\n",
       " ('2017-07-07', 77.14285714285714),\n",
       " ('2017-07-08', 77.16666666666667),\n",
       " ('2017-07-09', 79.33333333333333),\n",
       " ('2017-07-10', 77.85714285714286),\n",
       " ('2017-07-11', 77.0),\n",
       " ('2017-07-12', 78.28571428571429),\n",
       " ('2017-07-13', 78.14285714285714),\n",
       " ('2017-07-14', 78.83333333333333),\n",
       " ('2017-07-15', 80.16666666666667),\n",
       " ('2017-07-16', 78.33333333333333),\n",
       " ('2017-07-17', 77.83333333333333),\n",
       " ('2017-07-18', 79.14285714285714),\n",
       " ('2017-07-19', 78.16666666666667),\n",
       " ('2017-07-20', 78.42857142857143),\n",
       " ('2017-07-21', 78.14285714285714),\n",
       " ('2017-07-22', 77.66666666666667),\n",
       " ('2017-07-23', 79.6),\n",
       " ('2017-07-24', 77.66666666666667),\n",
       " ('2017-07-25', 79.28571428571429),\n",
       " ('2017-07-26', 78.42857142857143),\n",
       " ('2017-07-27', 78.0),\n",
       " ('2017-07-28', 79.14285714285714),\n",
       " ('2017-07-29', 80.5),\n",
       " ('2017-07-30', 80.6),\n",
       " ('2017-07-31', 78.71428571428571),\n",
       " ('2017-08-01', 74.5),\n",
       " ('2017-08-02', 79.0),\n",
       " ('2017-08-03', 79.0),\n",
       " ('2017-08-04', 80.0),\n",
       " ('2017-08-05', 80.0),\n",
       " ('2017-08-06', 81.4),\n",
       " ('2017-08-07', 80.5),\n",
       " ('2017-08-08', 78.5),\n",
       " ('2017-08-09', 77.33333333333333),\n",
       " ('2017-08-10', 79.25),\n",
       " ('2017-08-11', 78.0),\n",
       " ('2017-08-12', 79.0),\n",
       " ('2017-08-13', 80.6),\n",
       " ('2017-08-14', 78.2),\n",
       " ('2017-08-15', 77.2),\n",
       " ('2017-08-16', 77.0),\n",
       " ('2017-08-17', 77.25),\n",
       " ('2017-08-18', 78.0),\n",
       " ('2017-08-19', 78.75),\n",
       " ('2017-08-20', 79.66666666666667),\n",
       " ('2017-08-21', 79.5),\n",
       " ('2017-08-22', 80.0),\n",
       " ('2017-08-23', 80.25)]"
      ]
     },
     "execution_count": 44,
     "metadata": {},
     "output_type": "execute_result"
    }
   ],
   "source": [
    "last_date_query = session.query(Measurement.date).order_by(Measurement.id.desc()).limit(1)\n",
    "\n",
    "for item in last_date_query:\n",
    "    last_date = dt.datetime.strptime(item.date, \"%Y-%m-%d\").date() - dt.timedelta(days=364)\n",
    "        \n",
    "year_tobs = session.query(Measurement.date, func.avg(Measurement.tobs).label('Average')).\\\n",
    "    filter(Measurement.date >= last_date).\\\n",
    "    order_by(Measurement.date.asc()).\\\n",
    "    group_by(Measurement.date).all()\n",
    "    \n",
    "all_tobs = list(year_tobs)\n",
    "\n",
    "all_tobs"
   ]
  },
  {
   "cell_type": "markdown",
   "metadata": {},
   "source": [
    "## Optional Challenge Assignment"
   ]
  },
  {
   "cell_type": "code",
   "execution_count": null,
   "metadata": {},
   "outputs": [],
   "source": [
    "# Create a query that will calculate the daily normals \n",
    "# (i.e. the averages for tmin, tmax, and tavg for all historic data matching a specific month and day)\n",
    "\n",
    "def daily_normals(date):\n",
    "    \"\"\"Daily Normals.\n",
    "    \n",
    "    Args:\n",
    "        date (str): A date string in the format '%m-%d'\n",
    "        \n",
    "    Returns:\n",
    "        A list of tuples containing the daily normals, tmin, tavg, and tmax\n",
    "    \n",
    "    \"\"\"\n",
    "    \n",
    "    sel = [func.min(Measurement.tobs), func.avg(Measurement.tobs), func.max(Measurement.tobs)]\n",
    "    return session.query(*sel).filter(func.strftime(\"%m-%d\", Measurement.date) == date).all()\n",
    "    \n",
    "daily_normals(\"02-03\")"
   ]
  },
  {
   "cell_type": "code",
   "execution_count": null,
   "metadata": {},
   "outputs": [],
   "source": [
    "# calculate the daily normals for your trip\n",
    "# push each tuple of calculations into a list called `normals`\n",
    "\n",
    "# Set the start and end date of the trip\n",
    "\n",
    "# Use the start and end date to create a range of dates\n",
    "\n",
    "# Stip off the year and save a list of %m-%d strings\n",
    "\n",
    "# Loop through the list of %m-%d strings and calculate the normals for each date\n"
   ]
  },
  {
   "cell_type": "code",
   "execution_count": null,
   "metadata": {},
   "outputs": [],
   "source": [
    "trip_diff = dt.datetime.strptime(trip['end'],\"%Y-%m-%d\") - dt.datetime.strptime(trip['start'],\"%Y-%m-%d\")\n",
    "\n",
    "#use .days to access the days part of the timedelta object\n",
    "trip_length = trip_diff.days + 1\n",
    "\n",
    "trip_length"
   ]
  },
  {
   "cell_type": "code",
   "execution_count": null,
   "metadata": {},
   "outputs": [],
   "source": [
    "the_date = dt.datetime(2017, 5, 1, 0, 0)\n",
    "string_date = dt.datetime.strftime(the_date,\"%Y-%m-%d\")\n",
    "string_date"
   ]
  },
  {
   "cell_type": "code",
   "execution_count": null,
   "metadata": {},
   "outputs": [],
   "source": [
    "\n",
    "start_date = dt.datetime.strptime(trip['start'],\"%Y-%m-%d\")\n",
    "#list comprehension to generate list of individual days during the trip\n",
    "trip_range = [start_date + dt.timedelta(days=int(x)) for x in np.arange(trip_length)]\n",
    "#convert to strings, and format for only month-day\n",
    "trip_range_str = [dt.datetime.strftime(x,\"%m-%d\") for x in trip_range]\n",
    "\n",
    "trip_range_str"
   ]
  },
  {
   "cell_type": "code",
   "execution_count": null,
   "metadata": {},
   "outputs": [],
   "source": [
    "#daily_normals(date)\n",
    "normals = []\n",
    "\n",
    "for date in trip_range_str:\n",
    "    normals.append(daily_normals(date)[0])\n",
    "    \n",
    "normals"
   ]
  },
  {
   "cell_type": "code",
   "execution_count": null,
   "metadata": {},
   "outputs": [],
   "source": [
    "# Load the previous query results into a Pandas DataFrame and add the `trip_dates` range as the `date` index\n",
    "trip_dates = [dt.datetime.strftime(x,\"%Y-%m-%d\") for x in trip_range]\n",
    "\n",
    "normals_df = pd.DataFrame(normals,index=trip_dates,columns=['Min','Avg','Max'])\n",
    "\n",
    "normals_df"
   ]
  },
  {
   "cell_type": "code",
   "execution_count": null,
   "metadata": {},
   "outputs": [],
   "source": [
    "plt.plot(normals_df)"
   ]
  },
  {
   "cell_type": "code",
   "execution_count": null,
   "metadata": {},
   "outputs": [],
   "source": [
    "normals_df.index"
   ]
  },
  {
   "cell_type": "code",
   "execution_count": null,
   "metadata": {},
   "outputs": [],
   "source": [
    "#create an area chart with matplotlib and fill_between\n",
    "a = normals_df['Min']\n",
    "b = normals_df['Avg']\n",
    "c = normals_df['Max']\n",
    "x = normals_df.index\n",
    "# fig, ax = plt.subplots()\n",
    "# ax.plot(normals_df['Min'], label='Min')\n",
    "\n",
    "# ax.plot(normals_df['Avg'], label='Avg')\n",
    "# ax.plot(normals_df['Max'], label='Max')\n",
    "\n",
    "#fig, (ax1, ax2, ax3) = plt.subplots(3, 1, sharex=True)\n",
    "# ax1.fill_between(x, 0, y1)\n",
    "# ax1.set_ylabel('between y1 and 0')\n",
    "\n",
    "fig, ax = plt.subplots()\n",
    "\n",
    "ax.fill_between(x, 0, a)\n",
    "ax.set_ylabel('min and zero')\n",
    "\n",
    "ax.fill_between(x, a, b)\n",
    "ax.set_ylabel('avg and min')\n",
    "\n",
    "ax.fill_between(x, b, c)\n",
    "ax.set_ylabel('max and avg')\n",
    "ax.set_xlabel('Date')"
   ]
  },
  {
   "cell_type": "code",
   "execution_count": null,
   "metadata": {},
   "outputs": [],
   "source": [
    "#wow, that's an easy way to create an area chart, using pandas.plot\n",
    "normals_df.plot.area(stacked=False)"
   ]
  },
  {
   "cell_type": "code",
   "execution_count": null,
   "metadata": {},
   "outputs": [],
   "source": [
    "# Plot the daily normals as an area plot with `stacked=False`\n"
   ]
  }
 ],
 "metadata": {
  "kernel_info": {
   "name": "python3"
  },
  "kernelspec": {
   "display_name": "Python 3",
   "language": "python",
   "name": "python3"
  },
  "language_info": {
   "codemirror_mode": {
    "name": "ipython",
    "version": 3
   },
   "file_extension": ".py",
   "mimetype": "text/x-python",
   "name": "python",
   "nbconvert_exporter": "python",
   "pygments_lexer": "ipython3",
   "version": "3.7.0"
  },
  "nteract": {
   "version": "0.9.1"
  },
  "varInspector": {
   "cols": {
    "lenName": 16,
    "lenType": 16,
    "lenVar": 40
   },
   "kernels_config": {
    "python": {
     "delete_cmd_postfix": "",
     "delete_cmd_prefix": "del ",
     "library": "var_list.py",
     "varRefreshCmd": "print(var_dic_list())"
    },
    "r": {
     "delete_cmd_postfix": ") ",
     "delete_cmd_prefix": "rm(",
     "library": "var_list.r",
     "varRefreshCmd": "cat(var_dic_list()) "
    }
   },
   "types_to_exclude": [
    "module",
    "function",
    "builtin_function_or_method",
    "instance",
    "_Feature"
   ],
   "window_display": false
  }
 },
 "nbformat": 4,
 "nbformat_minor": 2
}
